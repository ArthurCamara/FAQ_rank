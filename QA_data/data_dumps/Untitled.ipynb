{
 "cells": [
  {
   "cell_type": "code",
   "execution_count": 89,
   "metadata": {},
   "outputs": [],
   "source": [
    "import pickle\n",
    "\n",
    "f = open('qq_data-17.p', 'rb')\n",
    "data = pickle.load(f)"
   ]
  },
  {
   "cell_type": "code",
   "execution_count": 92,
   "metadata": {},
   "outputs": [
    {
     "data": {
      "text/plain": [
       "array([ 0.20264876,  1.2628153 ,  6.38896294,  0.71490572,  0.21439547,\n",
       "        1.25347878, 12.94775901,  1.78131091,  0.44444444,  0.44444444,\n",
       "        0.94718069,  1.34506917,  8.00580215, 15.98467078])"
      ]
     },
     "execution_count": 92,
     "metadata": {},
     "output_type": "execute_result"
    }
   ],
   "source": [
    "data[0][2]"
   ]
  },
  {
   "cell_type": "code",
   "execution_count": 52,
   "metadata": {},
   "outputs": [],
   "source": [
    "# bhattacharyya test\n",
    "import numpy as np\n",
    "import math\n",
    "\n",
    "h1 = [ 1, 2, 3, 4, 5, 6, 7, 8 ];\n",
    "h2 = [ 6, 5, 4, 3, 2, 1, 0, 0 ];\n",
    "h3 = [ 8, 7, 6, 5, 4, 3, 2, 1 ];\n",
    "h4 = [ 1, 2, 3, 4, 4, 3, 2, 1 ];\n",
    "h5 = [ 8, 8, 8, 8, 8, 8, 8, 8 ];\n",
    "\n",
    "h = [ h1, h2, h3, h4, h5 ];\n",
    "\n",
    "def mean( hist ):\n",
    "    mean = 0.0;\n",
    "    for i in hist:\n",
    "        mean += i;\n",
    "    mean/= len(hist);\n",
    "    return mean;\n",
    "\n",
    "def bhatta ( hist1,  hist2):\n",
    "    # calculate mean of hist1\n",
    "    \n",
    "    h1_ = mean(hist1);\n",
    "    print(h1_)\n",
    "\n",
    "    # calculate mean of hist2\n",
    "    h2_ = mean(hist2);\n",
    "\n",
    "    # calculate score\n",
    "    score = 0;\n",
    "    for i in range(len(hist1)):\n",
    "        score += math.sqrt( hist1[i] * hist2[i] ,);\n",
    "    # print h1_,h2_,score;\n",
    "    score = math.sqrt( 1 - ( 1 / math.sqrt(h1_*h2_*8*8) ) * score );\n",
    "    return score;\n",
    "\n"
   ]
  },
  {
   "cell_type": "code",
   "execution_count": 74,
   "metadata": {},
   "outputs": [],
   "source": [
    "_1 =[0.46049228, 0.41231665, -0.34663585, 0.016321154, 0.44737408, 0.0128000025, -0.15709347, -0.09471454, -0.008014996, 0.3262105, 0.08581331, 0.19576232, 0.011228844, -0.06474135, 0.45518774, 0.5471674, 0.11758078, 0.13527483, -0.14045909, -0.47585386, -0.014921457, 0.23642445, 0.4984419, 0.14621678, 0.0905969, -1.2365253, -0.38542154, 0.35911003, 0.6257327, -0.3138308, 2.797939, 0.2913992, -0.40002567, -0.08778771, 0.08943455, 0.023501309, 0.06730683, 0.43078136, 0.21759786, -0.047930613, 0.13305235, -0.029631095, 0.11547415, 0.35514614, 0.27431023, 0.33586124, -0.1581787, -0.14181963, -0.036412694, 0.058690302]\n",
    "\n",
    "_2 =  [0.3070311, 0.26294556, -0.023140885, -0.10444865, 0.37320447, -0.13585111, -0.4915843, -0.06036777, -0.024277236, 0.33555862, 0.070794515, 0.39501223, -0.04556333, -0.079552606, 0.5593178, 0.50961435, 0.21478714, 0.28500223, -0.14805175, -0.70764613, 0.14486223, 0.28883553, 0.3125533, 0.07694133, 0.047237772, -1.5945323, -0.4409786, 0.17208444, 0.6776206, -0.43046114, 3.2076888, 0.45434678, -0.40934712, 0.14412498, 0.054712005, -0.051419895, -0.09308888, 0.37016544, 0.5912138, -0.23547333, 0.11317052, 0.18521579, 0.19812664, 0.46795002, 0.16168733, 0.14482935, -0.18164968, -0.06638224, -0.09831001, 0.3334901]\n",
    "  "
   ]
  },
  {
   "cell_type": "code",
   "execution_count": 87,
   "metadata": {},
   "outputs": [],
   "source": [
    "import math\n",
    " \n",
    "def bhattacharyya(a, b):\n",
    "    \"\"\" Bhattacharyya distance between distributions (lists of floats). \"\"\"\n",
    "    if not len(a) == len(b):\n",
    "        raise ValueError(\"a and b must be of the same size\")\n",
    "    return sum((math.sqrt(abs(u * w)) for u, w in zip(a, b)))\n",
    "               "
   ]
  },
  {
   "cell_type": "code",
   "execution_count": 86,
   "metadata": {},
   "outputs": [
    {
     "data": {
      "text/plain": [
       "15.083340344715634"
      ]
     },
     "execution_count": 86,
     "metadata": {},
     "output_type": "execute_result"
    }
   ],
   "source": [
    "bhattacharyya(np.array(_1), np.array(_2))"
   ]
  },
  {
   "cell_type": "code",
   "execution_count": null,
   "metadata": {},
   "outputs": [],
   "source": []
  }
 ],
 "metadata": {
  "kernelspec": {
   "display_name": "Python 3",
   "language": "python",
   "name": "python3"
  },
  "language_info": {
   "codemirror_mode": {
    "name": "ipython",
    "version": 3
   },
   "file_extension": ".py",
   "mimetype": "text/x-python",
   "name": "python",
   "nbconvert_exporter": "python",
   "pygments_lexer": "ipython3",
   "version": "3.6.5"
  }
 },
 "nbformat": 4,
 "nbformat_minor": 2
}
