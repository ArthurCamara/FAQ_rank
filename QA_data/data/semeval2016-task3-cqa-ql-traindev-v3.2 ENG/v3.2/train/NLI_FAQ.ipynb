{
 "cells": [
  {
   "cell_type": "code",
   "execution_count": 1,
   "metadata": {
    "collapsed": true
   },
   "outputs": [],
   "source": [
    "import os\n",
    "import re\n",
    "import xml.etree.ElementTree as ET\n",
    "\n"
   ]
  },
  {
   "cell_type": "code",
   "execution_count": 4,
   "metadata": {
    "collapsed": true
   },
   "outputs": [],
   "source": [
    "\n",
    "def read_only_conv(datafolder):\n",
    "    '''\n",
    "    Extracting only the conversations, ignoring the meta data..\n",
    "    '''\n",
    "    filepaths= [os.path.join(datafolder, f) for f in os.listdir(datafolder)]\n",
    "\n",
    "    tokenized_conv = []\n",
    "\n",
    "    for file1 in filepaths:\n",
    "        tree = ET.parse(file1)\n",
    "        root = tree.getroot()\n",
    "\n",
    "        for content in root.iter('content'):\n",
    "            if type(content.text) != str:\n",
    "                pass\n",
    "            else:\n",
    "                lines = content.text.split('\\n')\n",
    "                for l in lines:\n",
    "                    if l.strip(\"\\n\") == \"\":\n",
    "                        continue\n",
    "                    tokenized_conv.append(tokenize(l.strip().lower()))\n",
    "\n",
    "    return tokenized_conv\n",
    "\n",
    "datafolder = \"/home/anavgg/Desktop/QA/data/semeval2016-task3-cqa-ql-traindev-v3.2 ENG/v3.2/train\""
   ]
  },
  {
   "cell_type": "code",
   "execution_count": 8,
   "metadata": {},
   "outputs": [],
   "source": [
    "filepaths= [os.path.join(datafolder, f) for f in os.listdir(datafolder) if \"xml\" in f]\n",
    "for file1 in filepaths:\n",
    "    tree = ET.parse(file1)\n",
    "    root = tree.getroot()"
   ]
  },
  {
   "cell_type": "code",
   "execution_count": 10,
   "metadata": {},
   "outputs": [
    {
     "data": {
      "text/plain": [
       "<xml.etree.ElementTree.ElementTree at 0x7fcafe39c0b8>"
      ]
     },
     "execution_count": 10,
     "metadata": {},
     "output_type": "execute_result"
    }
   ],
   "source": [
    "for content in root.iter()"
   ]
  },
  {
   "cell_type": "code",
   "execution_count": null,
   "metadata": {
    "collapsed": true
   },
   "outputs": [],
   "source": []
  }
 ],
 "metadata": {
  "kernelspec": {
   "display_name": "Python 3",
   "language": "python",
   "name": "python3"
  },
  "language_info": {
   "codemirror_mode": {
    "name": "ipython",
    "version": 3
   },
   "file_extension": ".py",
   "mimetype": "text/x-python",
   "name": "python",
   "nbconvert_exporter": "python",
   "pygments_lexer": "ipython3",
   "version": "3.6.3"
  }
 },
 "nbformat": 4,
 "nbformat_minor": 2
}
